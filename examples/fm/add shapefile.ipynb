{
 "cells": [
  {
   "cell_type": "code",
   "execution_count": 3,
   "id": "93533658",
   "metadata": {},
   "outputs": [],
   "source": [
    "import geomapzw\n",
    "import os"
   ]
  },
  {
   "cell_type": "code",
   "execution_count": 4,
   "id": "033d1af1",
   "metadata": {},
   "outputs": [],
   "source": [
    "inshp = \"../examples/data/countries.shp\""
   ]
  },
  {
   "cell_type": "code",
   "execution_count": 7,
   "id": "5abcd3e0",
   "metadata": {},
   "outputs": [
    {
     "data": {
      "application/vnd.jupyter.widget-view+json": {
       "model_id": "27b4981b03d44ed2b31d3307603d3723",
       "version_major": 2,
       "version_minor": 0
      },
      "text/plain": [
       "Map(center=[40, -100], controls=(ZoomControl(options=['position', 'zoom_in_text', 'zoom_in_title', 'zoom_out_t…"
      ]
     },
     "metadata": {},
     "output_type": "display_data"
    }
   ],
   "source": [
    "m = geomapzw.Map()\n",
    "m"
   ]
  },
  {
   "cell_type": "code",
   "execution_count": 8,
   "id": "5a46bc1e",
   "metadata": {},
   "outputs": [],
   "source": [
    "m.add_shapefile(inshp, layer_name = \"Geojson\")"
   ]
  },
  {
   "cell_type": "code",
   "execution_count": null,
   "id": "a230da66",
   "metadata": {},
   "outputs": [],
   "source": []
  },
  {
   "cell_type": "code",
   "execution_count": null,
   "id": "44e221f0",
   "metadata": {},
   "outputs": [],
   "source": [
    "in_geojson = r\"C:\\Github_vm\\final\\geomapzw\\examples\\data\\us_states.geojson\"\n",
    "#in_geojson = \"../examples/data/us_states.geojson\""
   ]
  },
  {
   "cell_type": "code",
   "execution_count": null,
   "id": "77d62d82",
   "metadata": {},
   "outputs": [],
   "source": [
    "style = {\n",
    "    \"stroke\": True,\n",
    "    \"color\": \"#ff0000\",\n",
    "    \"weight\": 2,\n",
    "    \"opacity\": 1,\n",
    "    \"fill\": True,\n",
    "    \"fillColor\": \"#000000\",\n",
    "    \"fillOpacity\": 0.4,\n",
    "}"
   ]
  },
  {
   "cell_type": "code",
   "execution_count": null,
   "id": "9e771d6b",
   "metadata": {},
   "outputs": [],
   "source": [
    "m.add_geojson(in_geojson, style, layer_name = \"Geojson\")"
   ]
  },
  {
   "cell_type": "code",
   "execution_count": null,
   "id": "b0297858",
   "metadata": {},
   "outputs": [],
   "source": []
  }
 ],
 "metadata": {
  "kernelspec": {
   "display_name": "Python 3 (ipykernel)",
   "language": "python",
   "name": "python3"
  },
  "language_info": {
   "codemirror_mode": {
    "name": "ipython",
    "version": 3
   },
   "file_extension": ".py",
   "mimetype": "text/x-python",
   "name": "python",
   "nbconvert_exporter": "python",
   "pygments_lexer": "ipython3",
   "version": "3.8.10"
  }
 },
 "nbformat": 4,
 "nbformat_minor": 5
}
